{
 "cells": [
  {
   "cell_type": "code",
   "execution_count": 18,
   "id": "6586cd78",
   "metadata": {},
   "outputs": [],
   "source": [
    "try:\n",
    "    arquivo = open(\"Alunos.txt\")\n",
    "    arquivo2 = open('Dados Alunos.txt','w')\n",
    "\n",
    "    linhas = arquivo.readlines()\n",
    "    # hashtag_site     #-> Pessoas que vieram pelo site da Hashtag\n",
    "    # hashtag_yt     #-> Pessoas que vieram pelo Youtube da Hashtag\n",
    "    # hashtag_ig_org    #-> Pessoas que vieram pelo Instagram da Hashtag\n",
    "    # hashtag_igfb_org   #-> Pessoas que vieram pelo Instagram ou Facebook da Hashtag\n",
    "    site = 0\n",
    "    yt = 0\n",
    "    ig = 0\n",
    "    anuncio = 0\n",
    "    organico = 0\n",
    "\n",
    "    del linhas[:4]\n",
    "    \n",
    "    for linha in linhas:\n",
    "        email ,origem = linha.split(\",\")\n",
    "\n",
    "        if '_org' in origem:\n",
    "            organico +=1\n",
    "            if \"hashtag_site_org\" in origem:\n",
    "                site +=1\n",
    "            if \"hashtag_yt_org\" in origem:\n",
    "                yt +=1\n",
    "            if \"hashtag_ig_org\" in origem or \"hashtag_igfb_org\" in origem:\n",
    "                ig +=1  \n",
    "        else:\n",
    "            anuncio +=1    \n",
    "        \n",
    "\n",
    "    escrever = \"Quantidade Anuncio: {}\".format(anuncio)\n",
    "    arquivo2.write(escrever)\n",
    "    escrever = \"\\nQuantidade orgânico: {}\".format(organico)\n",
    "    arquivo2.write(escrever)\n",
    "    escrever = \"\\nQuantidade youtube: {}\".format(yt)\n",
    "    arquivo2.write(escrever)\n",
    "    escrever = \"\\nQuantidade site: {}\".format(site)\n",
    "    arquivo2.write(escrever)\n",
    "    escrever = \"\\nQuantidade instagram: {}\".format(ig)\n",
    "    arquivo2.write(escrever)\n",
    "    \n",
    "\n",
    "except FileNotFoundError:\n",
    "\n",
    "    print(\"Arquivo não encontrado\")\n",
    "\n",
    "except IOError:\n",
    "    print('Erro na leitura do arquivo')\n",
    "finally:\n",
    "    arquivo.close()\n",
    "    arquivo2.close()\n",
    "   \n",
    "\n"
   ]
  },
  {
   "cell_type": "code",
   "execution_count": null,
   "id": "fbc37c2c",
   "metadata": {},
   "outputs": [],
   "source": []
  }
 ],
 "metadata": {
  "kernelspec": {
   "display_name": "Python 3",
   "language": "python",
   "name": "python3"
  },
  "language_info": {
   "codemirror_mode": {
    "name": "ipython",
    "version": 3
   },
   "file_extension": ".py",
   "mimetype": "text/x-python",
   "name": "python",
   "nbconvert_exporter": "python",
   "pygments_lexer": "ipython3",
   "version": "3.11.0"
  }
 },
 "nbformat": 4,
 "nbformat_minor": 5
}
